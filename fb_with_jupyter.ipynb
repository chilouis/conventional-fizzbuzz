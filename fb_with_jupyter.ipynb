{
 "cells": [
  {
   "cell_type": "code",
   "execution_count": 1,
   "id": "0dacc767",
   "metadata": {},
   "outputs": [],
   "source": [
    "import requests"
   ]
  },
  {
   "cell_type": "code",
   "execution_count": 2,
   "id": "2e8cbf90",
   "metadata": {},
   "outputs": [
    {
     "name": "stdout",
     "output_type": "stream",
     "text": [
      "200 <!doctype html><html itemscope=\"\" itemtype=\"http://schema.org/WebPage\" lang=\"ko\"><head><meta content\n"
     ]
    }
   ],
   "source": [
    "response = requests.get('https://www.google.com')\n",
    "print(response.status_code, response.text[:100])"
   ]
  },
  {
   "cell_type": "markdown",
   "id": "34dc2526",
   "metadata": {},
   "source": [
    "여기까지가 첫번째 단위\n",
    "\n",
    "```shell\n",
    "$ git add fb-with-jupyter.ipynb\n",
    "$ git commit\n",
    "```"
   ]
  },
  {
   "cell_type": "code",
   "execution_count": 5,
   "id": "83064875",
   "metadata": {},
   "outputs": [
    {
     "data": {
      "text/plain": [
       "[1,\n",
       " 2,\n",
       " 'fizz',\n",
       " 4,\n",
       " 'buzz',\n",
       " 'fizz',\n",
       " 7,\n",
       " 8,\n",
       " 'fizz',\n",
       " 'buzz',\n",
       " 11,\n",
       " 'fizz',\n",
       " 13,\n",
       " 14,\n",
       " 'fizzbuzz',\n",
       " 16,\n",
       " 17]"
      ]
     },
     "execution_count": 5,
     "metadata": {},
     "output_type": "execute_result"
    }
   ],
   "source": [
    "['fizz'*(i%3==0) + 'buzz'*(i%5==0) if (i%3==0 or i%5==0) else i for i in range(1,17+1)]"
   ]
  },
  {
   "cell_type": "markdown",
   "id": "6537521f",
   "metadata": {},
   "source": [
    "여기까지가 두번째 단위"
   ]
  }
 ],
 "metadata": {
  "kernelspec": {
   "display_name": "Python 3 (ipykernel)",
   "language": "python",
   "name": "python3"
  },
  "language_info": {
   "codemirror_mode": {
    "name": "ipython",
    "version": 3
   },
   "file_extension": ".py",
   "mimetype": "text/x-python",
   "name": "python",
   "nbconvert_exporter": "python",
   "pygments_lexer": "ipython3",
   "version": "3.8.5"
  }
 },
 "nbformat": 4,
 "nbformat_minor": 5
}
